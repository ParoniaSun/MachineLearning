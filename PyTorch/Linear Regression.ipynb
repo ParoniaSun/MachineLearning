{
 "cells": [
  {
   "cell_type": "code",
   "execution_count": 12,
   "id": "bc910c75-04af-4171-84d3-81e8ea3e36e2",
   "metadata": {},
   "outputs": [
    {
     "name": "stdout",
     "output_type": "stream",
     "text": [
      "3.11.11 (main, Dec 11 2024, 10:25:04) [Clang 14.0.6 ]\n",
      "2.5.1\n",
      "False\n"
     ]
    }
   ],
   "source": [
    "import sys\n",
    "print(sys.version)\n",
    "\n",
    "import torch\n",
    "\n",
    "# 当前安装的 PyTorch 库的版本\n",
    "print(torch.__version__)\n",
    "# 检查 CUDA 是否可用，即你的系统有 NVIDIA 的 GPU\n",
    "print(torch.backends.mps.is_available()) #检查mps是否可用"
   ]
  },
  {
   "cell_type": "code",
   "execution_count": 13,
   "id": "b4f768c1-87e7-4996-be0b-16901c4b6ffd",
   "metadata": {},
   "outputs": [
    {
     "data": {
      "text/plain": [
       "'\\nPyTorch 线性回归\\n线性回归是最基本的机器学习算法之一，用于预测一个连续值。\\n\\n线性回归是一种简单且常见的回归分析方法，目的是通过拟合一个线性函数来预测输出。\\n\\n对于一个简单的线性回归问题，模型可以表示为：\\ny = w1x1 + w2x2 + ... + wnxn + b\\n\\ny 是预测值（目标值）。\\nx1，x2，xn 是输入特征。\\nw1，w2，wn是待学习的权重（模型参数）。\\nb 是偏置项。\\n'"
      ]
     },
     "execution_count": 13,
     "metadata": {},
     "output_type": "execute_result"
    }
   ],
   "source": [
    "\"\"\"\n",
    "PyTorch 线性回归\n",
    "线性回归是最基本的机器学习算法之一，用于预测一个连续值。\n",
    "\n",
    "线性回归是一种简单且常见的回归分析方法，目的是通过拟合一个线性函数来预测输出。\n",
    "\n",
    "对于一个简单的线性回归问题，模型可以表示为：\n",
    "y = w1x1 + w2x2 + ... + wnxn + b\n",
    "\n",
    "y 是预测值（目标值）。\n",
    "x1，x2，xn 是输入特征。\n",
    "w1，w2，wn是待学习的权重（模型参数）。\n",
    "b 是偏置项。\n",
    "\"\"\""
   ]
  },
  {
   "cell_type": "code",
   "execution_count": 14,
   "id": "6fe305bf-0cd0-4e8d-8d2e-bdaf89576ed5",
   "metadata": {},
   "outputs": [
    {
     "name": "stdout",
     "output_type": "stream",
     "text": [
      "tensor([[ 1.9269,  1.4873],\n",
      "        [ 0.9007, -2.1055],\n",
      "        [ 0.6784, -1.2345],\n",
      "        [-0.0431, -1.6047],\n",
      "        [-0.7521,  1.6487]])\n",
      "tensor([12.4460, -0.4663,  1.7666, -0.9357,  7.4781])\n"
     ]
    }
   ],
   "source": [
    "\"\"\"\n",
    "数据准备\n",
    "我们首先准备一些假数据，用于训练我们的线性回归模型。这里，我们可以生成一个简单的线性关系的数据集，其中每个样本有两个特征 x1，x2。\n",
    "\"\"\"\n",
    "\n",
    "import torch\n",
    "import numpy as np\n",
    "import matplotlib.pyplot as plt\n",
    "\n",
    "# 随机种子，确保每次运行结果一致\n",
    "torch.manual_seed(42)\n",
    "\n",
    "# 生成训练数据\n",
    "X = torch.randn(100, 2)  # 100 个样本，每个样本 2 个特征\n",
    "true_w = torch.tensor([2.0, 3.0])  # 假设真实权重\n",
    "true_b = 4.0  # 偏置项\n",
    "Y = X @ true_w + true_b + torch.randn(100) * 0.1  # 加入一些噪声\n",
    "\n",
    "# 打印部分数据\n",
    "print(X[:5])\n",
    "print(Y[:5])"
   ]
  },
  {
   "cell_type": "code",
   "execution_count": 15,
   "id": "852a9a66-948a-4984-8ae0-df9c802764f2",
   "metadata": {},
   "outputs": [
    {
     "data": {
      "text/plain": [
       "'\\n这里的 nn.Linear(2, 1) 表示一个线性层，它有 2 个输入特征和 1 个输出。forward 方法定义了如何通过这个层进行前向传播。\\n'"
      ]
     },
     "execution_count": 15,
     "metadata": {},
     "output_type": "execute_result"
    }
   ],
   "source": [
    "\"\"\"\n",
    "定义线性回归模型\n",
    "我们可以通过继承 nn.Module 来定义一个简单的线性回归模型。在 PyTorch 中，线性回归的核心是 nn.Linear() 层，它会自动处理权重和偏置的初始化。\n",
    "\"\"\"\n",
    "\n",
    "import torch.nn as nn\n",
    "\n",
    "# 定义线性回归模型\n",
    "class LinearRegressionModel(nn.Module):\n",
    "    def __init__(self):\n",
    "        super(LinearRegressionModel, self).__init__()\n",
    "        # 定义一个线性层，输入为2个特征，输出为1个预测值\n",
    "        self.linear = nn.Linear(2, 1)  # 输入维度2，输出维度1\n",
    "    \n",
    "    def forward(self, x):\n",
    "        return self.linear(x)  # 前向传播，返回预测结果\n",
    "\n",
    "# 创建模型实例\n",
    "model = LinearRegressionModel()\n",
    "\n",
    "\"\"\"\n",
    "这里的 nn.Linear(2, 1) 表示一个线性层，它有 2 个输入特征和 1 个输出。forward 方法定义了如何通过这个层进行前向传播。\n",
    "\"\"\""
   ]
  },
  {
   "cell_type": "code",
   "execution_count": 16,
   "id": "322b97a7-f053-48ea-8135-8c136ca55b6a",
   "metadata": {},
   "outputs": [
    {
     "data": {
      "text/plain": [
       "'\\nMSELoss：计算预测值与真实值的均方误差。\\nSGD：使用随机梯度下降法更新参数。\\n'"
      ]
     },
     "execution_count": 16,
     "metadata": {},
     "output_type": "execute_result"
    }
   ],
   "source": [
    "\"\"\"\n",
    "定义损失函数与优化器\n",
    "线性回归的常见损失函数是 均方误差损失（MSELoss），用于衡量预测值与真实值之间的差异。PyTorch 中提供了现成的 MSELoss 函数。\n",
    "\n",
    "我们将使用 SGD（随机梯度下降） 或 Adam 优化器来最小化损失函数。\n",
    "\"\"\"\n",
    "\n",
    "# 损失函数（均方误差）\n",
    "criterion = nn.MSELoss()\n",
    "\n",
    "# 优化器（使用 SGD 或 Adam）\n",
    "optimizer = torch.optim.SGD(model.parameters(), lr=0.01)  # 学习率设置为0.01\n",
    "\n",
    "\"\"\"\n",
    "MSELoss：计算预测值与真实值的均方误差。\n",
    "SGD：使用随机梯度下降法更新参数。\n",
    "\"\"\""
   ]
  },
  {
   "cell_type": "code",
   "execution_count": 22,
   "id": "2197e33e-deef-46b5-aa43-31040d770fd1",
   "metadata": {},
   "outputs": [
    {
     "name": "stdout",
     "output_type": "stream",
     "text": [
      "Epoch [100/1000], Loss: 0.0081\n",
      "Epoch [200/1000], Loss: 0.0081\n",
      "Epoch [300/1000], Loss: 0.0081\n",
      "Epoch [400/1000], Loss: 0.0081\n",
      "Epoch [500/1000], Loss: 0.0081\n",
      "Epoch [600/1000], Loss: 0.0081\n",
      "Epoch [700/1000], Loss: 0.0081\n",
      "Epoch [800/1000], Loss: 0.0081\n",
      "Epoch [900/1000], Loss: 0.0081\n",
      "Epoch [1000/1000], Loss: 0.0081\n"
     ]
    },
    {
     "data": {
      "text/plain": [
       "'\\npredictions.squeeze()：我们在这里将模型的输出从 2D 张量压缩为 1D，因为目标值 Y 是一个一维数组。\\noptimizer.zero_grad()：每次反向传播前需要清空之前的梯度。\\nloss.backward()：计算梯度。\\noptimizer.step()：更新权重和偏置。\\n'"
      ]
     },
     "execution_count": 22,
     "metadata": {},
     "output_type": "execute_result"
    }
   ],
   "source": [
    "\"\"\"\n",
    "训练模型\n",
    "在训练过程中，我们将执行以下步骤：\n",
    "\n",
    "使用输入数据 X 进行前向传播，得到预测值。\n",
    "计算损失（预测值与实际值之间的差异）。\n",
    "使用反向传播计算梯度。\n",
    "更新模型参数（权重和偏置）。\n",
    "我们将训练模型 1000 轮，并在每 100 轮打印一次损失。\n",
    "\"\"\"\n",
    "\n",
    "# 训练模型\n",
    "num_epochs = 1000  # 训练 1000 轮\n",
    "for epoch in range(num_epochs):\n",
    "    model.train()  # 设置模型为训练模式\n",
    "\n",
    "    # 前向传播\n",
    "    predictions = model(X)  # 模型输出预测值\n",
    "    #print('1------>', X[: 1])\n",
    "    #print('2------>', predictions[: 1])\n",
    "    #print('3------>', predictions.squeeze()[:1])\n",
    "\n",
    "    loss = criterion(predictions.squeeze(), Y)  # 计算损失（注意预测值需要压缩为1D）\n",
    "\n",
    "    # 反向传播\n",
    "    optimizer.zero_grad()  # 清空之前的梯度\n",
    "    loss.backward()  # 计算梯度\n",
    "    optimizer.step()  # 更新模型参数\n",
    "\n",
    "    # 打印损失\n",
    "    if (epoch + 1) % 100 == 0:\n",
    "        print(f'Epoch [{epoch + 1}/1000], Loss: {loss.item():.4f}')\n",
    "\n",
    "\"\"\"\n",
    "predictions.squeeze()：我们在这里将模型的输出从 2D 张量压缩为 1D，因为目标值 Y 是一个一维数组。\n",
    "optimizer.zero_grad()：每次反向传播前需要清空之前的梯度。\n",
    "loss.backward()：计算梯度。\n",
    "optimizer.step()：更新权重和偏置。\n",
    "\"\"\""
   ]
  },
  {
   "cell_type": "code",
   "execution_count": 10,
   "id": "d968244d-6cc0-43f2-b225-d53ea5a5af85",
   "metadata": {},
   "outputs": [
    {
     "name": "stdout",
     "output_type": "stream",
     "text": [
      "Predicted weight: [[0.54602575 2.2769208 ]]\n",
      "Predicted bias: [-0.65046823]\n"
     ]
    },
    {
     "data": {
      "image/png": "[encoded data removed]",
      "text/plain": [
       "<Figure size 640x480 with 1 Axes>"
      ]
     },
     "metadata": {},
     "output_type": "display_data"
    }
   ],
   "source": [
    "\"\"\"\n",
    "评估模型\n",
    "训练完成后，我们可以通过查看模型的权重和偏置来评估模型的效果。我们还可以在新的数据上进行预测并与实际值进行比较。\n",
    "\"\"\"\n",
    "\n",
    "# 查看训练后的权重和偏置\n",
    "print(f'Predicted weight: {model.linear.weight.data.numpy()}')\n",
    "print(f'Predicted bias: {model.linear.bias.data.numpy()}')\n",
    "\n",
    "# 在新数据上做预测\n",
    "with torch.no_grad():  # 评估时不需要计算梯度\n",
    "    predictions = model(X)\n",
    "\n",
    "# 可视化预测与实际值\n",
    "plt.scatter(X[:, 0], Y, color='blue', label='True values')\n",
    "plt.scatter(X[:, 0], predictions, color='red', label='Predictions')\n",
    "plt.legend()\n",
    "plt.show()\n",
    "\n",
    "\"\"\"\n",
    "model.linear.weight.data 和 model.linear.bias.data：这些属性存储了模型的权重和偏置。\n",
    "torch.no_grad()：在评估模式下，不需要计算梯度，节省内存。\n",
    "\"\"\""
   ]
  },
  {
   "cell_type": "code",
   "execution_count": 23,
   "id": "eb99cacd-699a-4e0f-a8db-a7c697b7691a",
   "metadata": {},
   "outputs": [
    {
     "name": "stdout",
     "output_type": "stream",
     "text": [
      "Epoch [100/1000], Loss: 0.4292\n",
      "Epoch [200/1000], Loss: 0.0152\n",
      "Epoch [300/1000], Loss: 0.0084\n",
      "Epoch [400/1000], Loss: 0.0081\n",
      "Epoch [500/1000], Loss: 0.0081\n",
      "Epoch [600/1000], Loss: 0.0081\n",
      "Epoch [700/1000], Loss: 0.0081\n",
      "Epoch [800/1000], Loss: 0.0081\n",
      "Epoch [900/1000], Loss: 0.0081\n",
      "Epoch [1000/1000], Loss: 0.0081\n",
      "Predicted weight: [[2.009702  2.9986038]]\n",
      "Predicted bias: [4.020908]\n"
     ]
    },
    {
     "data": {
      "image/png": "[encoded data removed]",
      "text/plain": [
       "<Figure size 640x480 with 1 Axes>"
      ]
     },
     "metadata": {},
     "output_type": "display_data"
    }
   ],
   "source": [
    "\"\"\"\n",
    "完整代码\n",
    "\"\"\"\n",
    "\n",
    "import torch.nn as nn\n",
    "\n",
    "# 定义线性回归模型\n",
    "class LinearRegressionModel(nn.Module):\n",
    "    def __init__(self):\n",
    "        super(LinearRegressionModel, self).__init__()\n",
    "        # 定义一个线性层，输入为2个特征，输出为1个预测值\n",
    "        self.linear = nn.Linear(2, 1)  # 输入维度2，输出维度1\n",
    "    \n",
    "    def forward(self, x):\n",
    "        return self.linear(x)  # 前向传播，返回预测结果\n",
    "\n",
    "# 创建模型实例\n",
    "model = LinearRegressionModel()\n",
    "\n",
    "# 损失函数（均方误差）\n",
    "criterion = nn.MSELoss()\n",
    "\n",
    "# 优化器（使用 SGD 或 Adam）\n",
    "optimizer = torch.optim.SGD(model.parameters(), lr=0.01)  # 学习率设置为0.01\n",
    "\n",
    "# 训练模型\n",
    "num_epochs = 1000  # 训练 1000 轮\n",
    "for epoch in range(num_epochs):\n",
    "    model.train()  # 设置模型为训练模式\n",
    "\n",
    "    # 前向传播\n",
    "    predictions = model(X)  # 模型输出预测值\n",
    "    loss = criterion(predictions.squeeze(), Y)  # 计算损失（注意预测值需要压缩为1D）\n",
    "\n",
    "    # 反向传播\n",
    "    optimizer.zero_grad()  # 清空之前的梯度\n",
    "    loss.backward()  # 计算梯度\n",
    "    optimizer.step()  # 更新模型参数\n",
    "\n",
    "    # 打印损失\n",
    "    if (epoch + 1) % 100 == 0:\n",
    "        print(f'Epoch [{epoch + 1}/1000], Loss: {loss.item():.4f}')\n",
    "\n",
    "# 查看训练后的权重和偏置\n",
    "print(f'Predicted weight: {model.linear.weight.data.numpy()}')\n",
    "print(f'Predicted bias: {model.linear.bias.data.numpy()}')\n",
    "\n",
    "# 在新数据上做预测\n",
    "with torch.no_grad():  # 评估时不需要计算梯度\n",
    "    predictions = model(X)\n",
    "\n",
    "# 可视化预测与实际值\n",
    "plt.scatter(X[:, 0], Y, color='blue', label='True values')\n",
    "plt.scatter(X[:, 0], predictions, color='red', label='Predictions')\n",
    "plt.legend()\n",
    "plt.show()"
   ]
  }
 ],
 "metadata": {
  "kernelspec": {
   "display_name": "Python 3 (ipykernel)",
   "language": "python",
   "name": "python3"
  },
  "language_info": {
   "codemirror_mode": {
    "name": "ipython",
    "version": 3
   },
   "file_extension": ".py",
   "mimetype": "text/x-python",
   "name": "python",
   "nbconvert_exporter": "python",
   "pygments_lexer": "ipython3",
   "version": "3.11.11"
  }
 },
 "nbformat": 4,
 "nbformat_minor": 5
}

{
 "cells": [
  {
   "cell_type": "code",
   "execution_count": 1,
   "id": "d231ece7-bd93-4a14-9fba-a749cf6aeda3",
   "metadata": {},
   "outputs": [
    {
     "name": "stdout",
     "output_type": "stream",
     "text": [
      "3.8.15 | packaged by conda-forge | (default, Nov 22 2022, 08:52:09) \n",
      "[Clang 14.0.6 ]\n",
      "2.12.0\n"
     ]
    }
   ],
   "source": [
    "import sys\n",
    "print(sys.version)\n",
    "\n",
    "import tensorflow as tf\n",
    "print(tf.__version__)\n",
    "\n",
    "import numpy as np"
   ]
  },
  {
   "cell_type": "code",
   "execution_count": 2,
   "id": "d6ec18cb-64e3-481c-96a1-8e03a6d6badd",
   "metadata": {},
   "outputs": [
    {
     "name": "stdout",
     "output_type": "stream",
     "text": [
      "tf.Tensor(\n",
      "[[1. 2.]\n",
      " [3. 4.]], shape=(2, 2), dtype=float32)\n",
      "tf.Tensor(5.477226, shape=(), dtype=float32)\n",
      "tf.Tensor([2.236068 5.      ], shape=(2,), dtype=float32)\n",
      "tf.Tensor(10.0, shape=(), dtype=float32)\n",
      "tf.Tensor([4. 6.], shape=(2,), dtype=float32)\n"
     ]
    }
   ],
   "source": [
    "\"\"\"\n",
    "1. 范数\n",
    "tf.orm(tensor, ord, axis)\n",
    "tensor表示需要求范数的张量；ord=1求一范数，ord=2求二范数，默认求二范数；axis指定轴，按照哪个轴求范数，默认求整个张量的范数\n",
    "\n",
    "一范数： 绝对值之和      二范数： 平方和再开根   \n",
    "\"\"\"\n",
    "# 创建一个二维tensor\n",
    "a = tf.constant([[1,2],[3,4]],dtype=tf.float32)\n",
    "print(a)\n",
    "# ==1== 求一个tensor的二范数\n",
    "print(tf.norm(a)) # ord可省略，默认二范数\n",
    "# ==2== 求一个tensor某一个轴的二范数\n",
    "print(tf.norm(a,ord=2,axis=1))  # 在第1个维度【列】上求，每一行的平方和开根\n",
    "# ==3== 求一个tensor的一范数\n",
    "print(tf.norm(a,ord=1))  # 每个元素的绝对值之和\n",
    "# ==4== 求一个tensor指定轴上的一范数\n",
    "print(tf.norm(a,ord=1,axis=0)) # 在第0个维度【行】上求，每一列的绝对值之和\n",
    "\"\"\"\n",
    "tf.norm(a) 是对a的所有元素都求平方再相加再开根，即 \n",
    "tf.norm(a,ord=2,axis=1) 是指定在第1个轴上求二范数，也就是对最外层括号里面的内容，即分别对 [1,2] 和 [3,4] 求二范数，返回[2.23, 5]\n",
    "tf.norm(a,ord=1) 没指定轴，求整个张量的一范数，绝对值之和，即1+2+3+4=10\n",
    "tf.norm(a,ord=1,axis=0) 对第0个轴求一范数，即分别对 [1,3] 和 [2,4] 求一范数。即[4,6]\n",
    "\"\"\""
   ]
  },
  {
   "cell_type": "code",
   "execution_count": 67,
   "id": "d655a496-3645-43eb-ad36-013bff454f72",
   "metadata": {},
   "outputs": [
    {
     "name": "stdout",
     "output_type": "stream",
     "text": [
      "tf.Tensor(\n",
      "[[18 17  4  0  1]\n",
      " [ 4 10 17 11 19]\n",
      " [14  7  6  7 17]], shape=(3, 5), dtype=int32)\n",
      "tf.Tensor(0, shape=(), dtype=int32)\n",
      "tf.Tensor(19, shape=(), dtype=int32)\n",
      "tf.Tensor(10, shape=(), dtype=int32)\n"
     ]
    }
   ],
   "source": [
    "\"\"\"\n",
    "2. 最值、均值\n",
    "最小值  tf.reduce_min()； 最大值  tf.reduce_max()； 均值  tf.reduce_mean()\n",
    "参数均为：tensor 需要计算的张量；axis 指定计算的轴\n",
    "\n",
    "2.1 若不指定轴，计算的是整个tensor的最值和均值\n",
    "\"\"\"\n",
    "# 3行5列的每个元素在0-20中随机选取，元素是整型\n",
    "a = tf.random.uniform([3,5],minval=0,maxval=20,dtype=tf.int32)\n",
    "print(a)\n",
    "# ==1== 不指定轴axis\n",
    "print(tf.reduce_min(a))  # 求整个tensor的最小值，变成了0维\n",
    "print(tf.reduce_max(a))\n",
    "print(tf.reduce_mean(a))\n",
    "\"\"\"\n",
    "求最值、均值时会有一个降维过程，比如这里的二维tensor，不指定轴求整个tensor的最值、均值，返回值是一个标量，这就是一个降维的过程。\n",
    "\"\"\""
   ]
  },
  {
   "cell_type": "code",
   "execution_count": 77,
   "id": "84b4a8d4-bcfb-4ef4-8f6e-f2fb15d46d32",
   "metadata": {},
   "outputs": [
    {
     "name": "stdout",
     "output_type": "stream",
     "text": [
      "tf.Tensor(\n",
      "[[[ 7  9 12  8 18]\n",
      "  [ 0  5  4  0 13]\n",
      "  [ 1  0  4  6  5]]\n",
      "\n",
      " [[16  0  2  7 10]\n",
      "  [ 9  3  6 10  3]\n",
      "  [13  8 17  2  3]]], shape=(2, 3, 5), dtype=int32)\n",
      "tf.Tensor(\n",
      "[[ 7  0  2  7 10]\n",
      " [ 0  3  4  0  3]\n",
      " [ 1  0  4  2  3]], shape=(3, 5), dtype=int32)\n",
      "tf.Tensor(\n",
      "[[18 13  6]\n",
      " [16 10 17]], shape=(2, 3), dtype=int32)\n",
      "tf.Tensor(\n",
      "[[ 2  4  6  4 12]\n",
      " [12  3  8  6  5]], shape=(2, 5), dtype=int32)\n"
     ]
    }
   ],
   "source": [
    "\"\"\"\n",
    "2.2 若指定轴\n",
    "\"\"\"\n",
    "#2个图，3行，5列\n",
    "a = tf.random.uniform([2,3,5],minval=0,maxval=20,dtype=tf.int32)\n",
    "print(a)\n",
    "# ==2== 指定轴axis\n",
    "# 求每一图的最小值\n",
    "print(tf.reduce_min(a,axis=0))\n",
    "# 求每一行的最大值\n",
    "print(tf.reduce_max(a,axis=2))\n",
    "# 求每一列的均值\n",
    "print(tf.reduce_mean(a,axis=1))"
   ]
  },
  {
   "cell_type": "code",
   "execution_count": 80,
   "id": "379f54e3-7c65-4bc3-87cc-6599382e9c60",
   "metadata": {},
   "outputs": [
    {
     "name": "stdout",
     "output_type": "stream",
     "text": [
      "tf.Tensor(\n",
      "[[[ 4  6 15  2 16]\n",
      "  [ 4 11 17  7  6]\n",
      "  [ 0  9 11  4 10]]\n",
      "\n",
      " [[ 5  4  1 19 12]\n",
      "  [11 16  2  9  2]\n",
      "  [13 18  8 19  6]]], shape=(2, 3, 5), dtype=int32)\n",
      "tf.Tensor(\n",
      "[[1 0 0 1 0]\n",
      " [1 1 0 1 0]\n",
      " [1 1 0 1 0]], shape=(3, 5), dtype=int64)\n",
      "tf.Tensor(\n",
      "[[2 0 2 0 1]\n",
      " [0 0 0 1 1]], shape=(2, 5), dtype=int64)\n"
     ]
    }
   ],
   "source": [
    "\"\"\"\n",
    "3. 最值的位置\n",
    "最大值的索引位置： tf.argmax()      最小值的索引位置： tf.argmin()\n",
    "参数： tensor 需要计算的张量；axis 指定计算的轴\n",
    "\"\"\"\n",
    "# 2图3行5列的每个元素在0-20中随机选取，元素是整型\n",
    "a = tf.random.uniform([2,3,5],minval=0,maxval=20,dtype=tf.int32)\n",
    "print(a)\n",
    "# 最大值位置\n",
    "print(tf.argmax(a))  # 默认axis=0，即在第0个维度上求最大值所在位置\n",
    "# 最小值位置\n",
    "print(tf.argmin(a,axis=1))  # 在第1的维度上求最小值所在位置"
   ]
  },
  {
   "cell_type": "code",
   "execution_count": 83,
   "id": "125c5a24-acf4-490a-9a30-7e5a5af32c30",
   "metadata": {},
   "outputs": [
    {
     "name": "stdout",
     "output_type": "stream",
     "text": [
      "tf.Tensor([1 2 3 4 5], shape=(5,), dtype=int32)\n",
      "tf.Tensor([5 4 3 2 1], shape=(5,), dtype=int32)\n",
      "tf.Tensor([False False  True False False], shape=(5,), dtype=bool)\n",
      "==================================================================================================================================\n",
      "tf.Tensor([False False  True False False], shape=(5,), dtype=bool)\n",
      "tf.Tensor([0 0 1 0 0], shape=(5,), dtype=int32)\n",
      "tf.Tensor(1, shape=(), dtype=int32)\n"
     ]
    }
   ],
   "source": [
    "\"\"\"\n",
    "4. 判断相同元素\n",
    "tf.equal(tensor1, tensor2)\n",
    "判断两个tensor变量是否相等，它的判断方法不是整体判断，而是逐个元素进行判断，如果相等就是True，不相等，就是False。\n",
    "\"\"\"\n",
    "a = tf.constant([1,2,3,4,5])\n",
    "b = tf.constant([5,4,3,2,1])\n",
    "print(a)\n",
    "print(b)\n",
    "# 比较，相同返回True\n",
    "print(tf.equal(a,b))\n",
    "\"\"\"\n",
    "通过对a和b的每一个元素两两相比较，只有3是同位置同数值，返回True，其他都是False。\n",
    "\"\"\"\n",
    "\n",
    "print('==================================================================================================================================')\n",
    "\n",
    "\"\"\"\n",
    "当我们比较两幅数据量很大的图像时，可以通过返回值来计算有几个相同的元素\n",
    "首先利用类型转换函数cast()，将布尔类型转换成整型，再通过求和函数tf.reduce_sum()来计算个数。我们通过这个思路来计算这两个tensor有几个相同的元素。最终返回数值1。\n",
    "\"\"\"\n",
    "a = tf.constant([1,2,3,4,5])\n",
    "b = tf.constant([5,4,3,2,1])\n",
    "# 接收布尔返回值\n",
    "res = tf.equal(a,b)\n",
    "print(res)\n",
    "# 计算两个tensor有几个相同的元素\n",
    "# 将res中的布尔类型转换成整型\n",
    "print(tf.cast(res,dtype=tf.int32))\n",
    "print(tf.reduce_sum(tf.cast(res,dtype=tf.int32)))"
   ]
  },
  {
   "cell_type": "code",
   "execution_count": 84,
   "id": "ff02be9a-894c-4b5c-9993-f07c64a74e59",
   "metadata": {},
   "outputs": [
    {
     "name": "stdout",
     "output_type": "stream",
     "text": [
      "tf.Tensor([5 6 7 8], shape=(4,), dtype=int32)\n",
      "tf.Tensor([0 1 2 3 1 0], shape=(6,), dtype=int32)\n"
     ]
    }
   ],
   "source": [
    "\"\"\"\n",
    "5. 求唯一值\n",
    "tf.unique(tensor)\n",
    "返回tensor变量中的互不相同的值组成的列表，和原值的每个元素在唯一值列表中的位置\n",
    "\"\"\"\n",
    "# 创建一个一维列表\n",
    "a = tf.constant([5,6,7,8,6,5])\n",
    "# 返回唯一值、和原数据中的每个元素在唯一值列表中的索引位置\n",
    "res,arr = tf.unique(a)\n",
    "print(res)\n",
    "print(arr)"
   ]
  },
  {
   "cell_type": "code",
   "execution_count": 87,
   "id": "1c74a5bf-bd10-487e-a4a5-790fabc011d0",
   "metadata": {},
   "outputs": [
    {
     "name": "stdout",
     "output_type": "stream",
     "text": [
      "tf.Tensor(\n",
      "[[3 1 4 4 2]\n",
      " [1 3 0 0 3]\n",
      " [1 1 3 1 0]], shape=(3, 5), dtype=int32)\n",
      "tf.Tensor(27, shape=(), dtype=int32)\n",
      "tf.Tensor([5 5 7 5 5], shape=(5,), dtype=int32)\n",
      "tf.Tensor([14  7  6], shape=(3,), dtype=int32)\n"
     ]
    }
   ],
   "source": [
    "\"\"\"\n",
    "6. 求和\n",
    "tf.reduce_sum(tensor, axis)\n",
    "对tensor变量求和，若不指定axis轴，默认求整个tensor变量的所有元素的和\n",
    "\"\"\"\n",
    "# 创建一个3行5列，每个元素都是在0-4之间随机取\n",
    "a = tf.random.uniform([3,5],minval=0,maxval=5,dtype=tf.int32)\n",
    "print(a)\n",
    "# 整个tensor变量的和\n",
    "print(tf.reduce_sum(a))\n",
    "# 对第0个轴求和\n",
    "print(tf.reduce_sum(a,axis=0))\n",
    "# 对第1个轴求和\n",
    "print(tf.reduce_sum(a,axis=1))"
   ]
  },
  {
   "cell_type": "code",
   "execution_count": null,
   "id": "1a0e6981-bba5-4576-bd0c-bdb2f2058a7c",
   "metadata": {},
   "outputs": [],
   "source": [
    "\n"
   ]
  }
 ],
 "metadata": {
  "kernelspec": {
   "display_name": "Python 3 (ipykernel)",
   "language": "python",
   "name": "python3"
  },
  "language_info": {
   "codemirror_mode": {
    "name": "ipython",
    "version": 3
   },
   "file_extension": ".py",
   "mimetype": "text/x-python",
   "name": "python",
   "nbconvert_exporter": "python",
   "pygments_lexer": "ipython3",
   "version": "3.8.15"
  }
 },
 "nbformat": 4,
 "nbformat_minor": 5
}

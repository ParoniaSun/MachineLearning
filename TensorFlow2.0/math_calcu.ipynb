{
 "cells": [
  {
   "cell_type": "code",
   "execution_count": 1,
   "id": "5279984d-ecf6-4c6f-b107-6a4cbc04af51",
   "metadata": {},
   "outputs": [
    {
     "name": "stdout",
     "output_type": "stream",
     "text": [
      "3.8.15 | packaged by conda-forge | (default, Nov 22 2022, 08:52:09) \n",
      "[Clang 14.0.6 ]\n",
      "2.12.0\n"
     ]
    }
   ],
   "source": [
    "import sys\n",
    "print(sys.version)\n",
    "\n",
    "import tensorflow as tf\n",
    "print(tf.__version__)\n",
    "\n",
    "import numpy as np"
   ]
  },
  {
   "cell_type": "code",
   "execution_count": 2,
   "id": "bcbedec5-2ba7-47dc-8a81-7f4e62767dc2",
   "metadata": {},
   "outputs": [
    {
     "name": "stdout",
     "output_type": "stream",
     "text": [
      "tf.Tensor(\n",
      "[[2. 2.]\n",
      " [2. 2.]], shape=(2, 2), dtype=float32)\n",
      "tf.Tensor(\n",
      "[[1. 1.]\n",
      " [1. 1.]], shape=(2, 2), dtype=float32)\n"
     ]
    }
   ],
   "source": [
    "\"\"\"\n",
    "1. 基本数学运算\n",
    "开始之前，我们先定义两个tensor，下面的计算都使用这两个\n",
    "\"\"\"\n",
    "# 2行2列的全为2的tensor\n",
    "a = tf.fill([2,2],2.) \n",
    "print(a)\n",
    "# 2行2列全1tensor，默认float32\n",
    "b = tf.ones([2,2]) \n",
    "print(b)"
   ]
  },
  {
   "cell_type": "code",
   "execution_count": 3,
   "id": "4fc542da-71bc-44dd-b3b9-a73ad0cf5e41",
   "metadata": {},
   "outputs": [
    {
     "name": "stdout",
     "output_type": "stream",
     "text": [
      "tf.Tensor(\n",
      "[[3. 3.]\n",
      " [3. 3.]], shape=(2, 2), dtype=float32)\n",
      "tf.Tensor(\n",
      "[[1. 1.]\n",
      " [1. 1.]], shape=(2, 2), dtype=float32)\n",
      "tf.Tensor(\n",
      "[[2. 2.]\n",
      " [2. 2.]], shape=(2, 2), dtype=float32)\n",
      "tf.Tensor(\n",
      "[[2. 2.]\n",
      " [2. 2.]], shape=(2, 2), dtype=float32)\n"
     ]
    }
   ],
   "source": [
    "\"\"\"\n",
    "1.1 加减乘除\n",
    "计算前要保证两个tensor的数据类型相同。\n",
    "\"\"\"\n",
    "# ==1== 加减乘除\n",
    "print(a+b)  # 元素之间相加\n",
    "print(a-b)  # 元素之间相减\n",
    "print(a*b)  # 元素之间相乘，理解为矩阵的点乘\n",
    "print(a/b)  # 元素之间相除"
   ]
  },
  {
   "cell_type": "code",
   "execution_count": 4,
   "id": "d31525f3-5b8a-4318-be2f-b0490fe1e787",
   "metadata": {},
   "outputs": [
    {
     "name": "stdout",
     "output_type": "stream",
     "text": [
      "tf.Tensor(\n",
      "[[2. 2.]\n",
      " [2. 2.]], shape=(2, 2), dtype=float32)\n",
      "tf.Tensor(\n",
      "[[0. 0.]\n",
      " [0. 0.]], shape=(2, 2), dtype=float32)\n"
     ]
    }
   ],
   "source": [
    "\"\"\"\n",
    "1.2 求余取整\n",
    "\"\"\"\n",
    "# ==2== 取整求余\n",
    "print(a // b)  # a/b 取整除数\n",
    "print(a % b)   # a/b 取余数"
   ]
  },
  {
   "cell_type": "code",
   "execution_count": 8,
   "id": "e9908978-4ab4-479e-9377-ba8dedd39e0c",
   "metadata": {},
   "outputs": [
    {
     "name": "stdout",
     "output_type": "stream",
     "text": [
      "tf.Tensor(\n",
      "[[0. 0.]\n",
      " [0. 0.]], shape=(2, 2), dtype=float32)\n",
      "tf.Tensor(3.0, shape=(), dtype=float32)\n",
      "==================================================================================================================================\n",
      "tf.Tensor(\n",
      "[[2.7182817 2.7182817]\n",
      " [2.7182817 2.7182817]], shape=(2, 2), dtype=float32)\n"
     ]
    }
   ],
   "source": [
    "\"\"\"\n",
    "1.3 对数和指数\n",
    "求对数log： tf.math.log(a)\n",
    "注意，这里的 log 的底数统一都是 e\n",
    "\"\"\"\n",
    "a = tf.ones([2,2])\n",
    "# 求a的每一个元素求对数\n",
    "print(tf.math.log(a))\n",
    "\"\"\"\n",
    "如果想要对数的底数是其他值，需要通过变换统一底数计算\n",
    "\"\"\"\n",
    "print(tf.math.log(8.)/tf.math.log(2.))\n",
    "\n",
    "print('==================================================================================================================================')\n",
    "\n",
    "\"\"\"\n",
    "指数计算 e^{x}  ：tf.exp(tensor)\n",
    "\"\"\"\n",
    "a = tf.ones([2,2])\n",
    "# 对tensor中的每一个元素求ex\n",
    "print(tf.exp(a))"
   ]
  },
  {
   "cell_type": "code",
   "execution_count": 10,
   "id": "a2544b62-e1f7-4196-9a4f-c277ab59e0bc",
   "metadata": {},
   "outputs": [
    {
     "name": "stdout",
     "output_type": "stream",
     "text": [
      "tf.Tensor(\n",
      "[[4. 4.]\n",
      " [4. 4.]], shape=(2, 2), dtype=float32)\n",
      "tf.Tensor(\n",
      "[[4. 4.]\n",
      " [4. 4.]], shape=(2, 2), dtype=float32)\n",
      "tf.Tensor(\n",
      "[[1.4142135 1.4142135]\n",
      " [1.4142135 1.4142135]], shape=(2, 2), dtype=float32)\n"
     ]
    }
   ],
   "source": [
    "\"\"\"\n",
    "1.4 求次方、开平方\n",
    "求n次方：（1）tf.pow(tensor, n)   （2）tensor**n\n",
    "对tensor中的每个元素求n次方\n",
    "\n",
    "求平方： tf.square(tensor)\n",
    "对tensor中的每个元素求平方\n",
    "\n",
    "开平方： tf.sqrt(tensor)\n",
    "对tensor中的每个元素求平方根\n",
    "\"\"\"\n",
    "a = tf.fill([2,2],2.)\n",
    "#（1）求n次方\n",
    "# 法一：\n",
    "print(tf.pow(a,2))\n",
    "# 法二：\n",
    "print(a**2)\n",
    "#（2）开平方\n",
    "print(tf.sqrt(a))\n"
   ]
  },
  {
   "cell_type": "code",
   "execution_count": 13,
   "id": "548dda0d-20c7-43c5-80a0-44fbafe89660",
   "metadata": {},
   "outputs": [
    {
     "name": "stdout",
     "output_type": "stream",
     "text": [
      "tf.Tensor(\n",
      "[[4. 4.]\n",
      " [4. 4.]], shape=(2, 2), dtype=float32)\n",
      "tf.Tensor(\n",
      "[[4. 4.]\n",
      " [4. 4.]], shape=(2, 2), dtype=float32)\n"
     ]
    }
   ],
   "source": [
    "\"\"\"\n",
    "2. 矩阵相乘\n",
    "\n",
    "方法：（1）变量1 @ 变量2  （2）tf.mutmul(变量1, 变量2)\n",
    "2.1 对于二维矩阵\n",
    "\"\"\"\n",
    "# 创建二维矩阵，保证数据类型相同\n",
    "a = tf.ones([2,2])  # 2行2列全1.0\n",
    "b = tf.fill([2,2],2.)  # 2行2列全2.0\n",
    "# 法一：\n",
    "print(a @ b)\n",
    "# 法二：\n",
    "print(tf.matmul(a,b))"
   ]
  },
  {
   "cell_type": "code",
   "execution_count": 23,
   "id": "adf8b5a4-8433-4ffd-83c0-0b65ca083535",
   "metadata": {},
   "outputs": [
    {
     "name": "stdout",
     "output_type": "stream",
     "text": [
      "tf.Tensor(\n",
      "[[[6. 6. 6. 6. 6.]\n",
      "  [6. 6. 6. 6. 6.]]\n",
      "\n",
      " [[6. 6. 6. 6. 6.]\n",
      "  [6. 6. 6. 6. 6.]]\n",
      "\n",
      " [[6. 6. 6. 6. 6.]\n",
      "  [6. 6. 6. 6. 6.]]\n",
      "\n",
      " [[6. 6. 6. 6. 6.]\n",
      "  [6. 6. 6. 6. 6.]]], shape=(4, 2, 5), dtype=float32)\n",
      "tf.Tensor(\n",
      "[[[6. 6. 6. 6. 6.]\n",
      "  [6. 6. 6. 6. 6.]]\n",
      "\n",
      " [[6. 6. 6. 6. 6.]\n",
      "  [6. 6. 6. 6. 6.]]\n",
      "\n",
      " [[6. 6. 6. 6. 6.]\n",
      "  [6. 6. 6. 6. 6.]]\n",
      "\n",
      " [[6. 6. 6. 6. 6.]\n",
      "  [6. 6. 6. 6. 6.]]], shape=(4, 2, 5), dtype=float32)\n",
      "==================================================================================================================================\n",
      "tf.Tensor(\n",
      "[[[6. 6. 6. 6. 6.]\n",
      "  [6. 6. 6. 6. 6.]]\n",
      "\n",
      " [[6. 6. 6. 6. 6.]\n",
      "  [6. 6. 6. 6. 6.]]\n",
      "\n",
      " [[6. 6. 6. 6. 6.]\n",
      "  [6. 6. 6. 6. 6.]]\n",
      "\n",
      " [[6. 6. 6. 6. 6.]\n",
      "  [6. 6. 6. 6. 6.]]], shape=(4, 2, 5), dtype=float32)\n"
     ]
    }
   ],
   "source": [
    "\"\"\"\n",
    "2.2 对于高维矩阵\n",
    "\"\"\"\n",
    "# 创建三维tensor\n",
    "a = tf.ones([4,2,3])\n",
    "b = tf.fill([4,3,5],2.)\n",
    "# print(a)\n",
    "# print(b)\n",
    "# 法一：\n",
    "print(a@b)\n",
    "# 法二：\n",
    "print(tf.matmul(a,b))\n",
    "\"\"\"\n",
    "可以将这几个维度理解为 [图像,行,列]，将图像维度单独看作一个维度，对后面两个维度进行矩阵相乘计算，维度相乘公式如下 [b, h, w] @ [b, w, k] = [b, h, k]\n",
    "\"\"\"\n",
    "\n",
    "print('==================================================================================================================================')\n",
    "\n",
    "\"\"\"\n",
    "利用广播对不满足要求的矩阵扩张后再进行矩阵运算，维度相乘公式为：\n",
    "\n",
    " [b, h, w] @ [w, k] = [b, h, k]\n",
    "\"\"\"\n",
    "a = tf.ones([4,2,3])\n",
    "b = tf.fill([3,5],2.)\n",
    "# 矩阵相乘\n",
    "print(a @ b)  #计算时自动广播"
   ]
  },
  {
   "cell_type": "code",
   "execution_count": 27,
   "id": "778347cc-058d-45f5-af2d-912535857085",
   "metadata": {},
   "outputs": [
    {
     "name": "stdout",
     "output_type": "stream",
     "text": [
      "(6, 35, 8)\n"
     ]
    }
   ],
   "source": [
    "\"\"\"\n",
    "3. 合并\n",
    "\n",
    "3.1 tf.concat()\n",
    "tf.concat( [tensor1,tensor2,..] , axis )\n",
    "在指定的某个维度上合并，其他维度不变，不产生新的维度。在使用该方法进行合并两个tensor变量时，除axis指定的维度可以不相等，其他维度必须相等。\n",
    "首先创建2个三维的tensor变量，在axis=0时的维度不同，其他维度相同。指定轴axis=0对两个tensor合并。\n",
    "\"\"\"\n",
    "# 创建三维的tensor\n",
    "a = tf.ones([4,35,8]) # 可以理解为收集前4个班级35名学生8门课的成绩\n",
    "b = tf.ones([2,35,8])\n",
    "# 将a和b合并，指定轴axis=0，在班级维度上合并\n",
    "c = tf.concat([a,b],axis=0) \n",
    "# print('a:\\n',a)\n",
    "# print('b:\\n',b)\n",
    "# print('c:\\n',c)\n",
    "print(c.shape)"
   ]
  },
  {
   "cell_type": "code",
   "execution_count": 30,
   "id": "95b5662e-c82c-4839-a925-ae4ba5edcfc9",
   "metadata": {},
   "outputs": [
    {
     "name": "stdout",
     "output_type": "stream",
     "text": [
      "(2, 4, 35, 8)\n",
      "(4, 35, 2, 8)\n"
     ]
    }
   ],
   "source": [
    "\"\"\"\n",
    "3.2 tf.stack()\n",
    "tf.stack([tensor1,tensor,...], axis)\n",
    "在指定轴的位置创建一个新的维度，用来合并几个所有维度都相同的tensor变量。要求被合并的tensor变量的shape完全一样。\n",
    "如果axis是正数，在指定轴前面创建一个维度；axis是负数，在指定轴后面创建。\n",
    "\"\"\"\n",
    "# 创建两个相同shape的tensor变量\n",
    "a = tf.ones([4,35,8])  \n",
    "b = tf.ones([4,35,8])  \n",
    "# 在指定轴前面创建新维度合并，保证其他维度的shape相同\n",
    "c = tf.stack([a,b],axis=0)\n",
    "print(c.shape)\n",
    "# 若为负数在axis后面创建\n",
    "d = tf.stack([a,b],axis=-2)\n",
    "print(d.shape)"
   ]
  },
  {
   "cell_type": "code",
   "execution_count": 31,
   "id": "af274100-c606-4c07-99dd-b7075675cbf3",
   "metadata": {},
   "outputs": [
    {
     "name": "stdout",
     "output_type": "stream",
     "text": [
      "(2, 35, 8)\n"
     ]
    }
   ],
   "source": [
    "\"\"\"\n",
    "4. 拆分\n",
    "4.1 tf.unstack()\n",
    "tf.unstack(tensor, axis)\n",
    "在一个tensor变量的指定维度上，拆分这个维度。将指定维度全部拆分，该维度的shape是多少就拆分多少个。拆分后这个维度消失，不会修改原数据，需要用一个新变量接收拆分结果。\n",
    "\"\"\"\n",
    "# 创建一个四维全1的tensor\n",
    "a = tf.ones([2,4,35,8])\n",
    "# 指定拆分axis=1这个维度，全部拆分，为4份\n",
    "#对指定维度axis=1进行拆分，拆分后这个维度消失，返回由4个三维tensor组成的列表，列表中每一个tensor的shape都是[2, 35, 8]\n",
    "res = tf.unstack(a,axis=1)\n",
    "# 返回一个列表，查看某个tensor的维度\n",
    "print(res[0].shape)"
   ]
  },
  {
   "cell_type": "code",
   "execution_count": 33,
   "id": "acd52ba1-638e-4d11-b3b6-307b5c491951",
   "metadata": {},
   "outputs": [
    {
     "name": "stdout",
     "output_type": "stream",
     "text": [
      "(2, 2, 35, 8)\n",
      "(2, 4, 35, 2)\n",
      "(2, 4, 35, 2)\n",
      "(2, 4, 35, 4)\n"
     ]
    }
   ],
   "source": [
    "\"\"\"\n",
    "4.2 tf.split()\n",
    "tf.split(tensor, axis, num_or_size_splits)\n",
    "tensor为需要切分的张量；axis指定在第几个维度上切分；num_or_size_splits表示要切几份，怎么切，如果是一个整数，那直接在指定维度上把张量平均切分成几个小张量，\n",
    "如果是一个向量，就根据这个向量有几个元素分为几项。\n",
    "拆分后，指定的轴不消失。\n",
    "\"\"\"\n",
    "a = tf.ones([2,4,35,8])\n",
    "# 在第1个轴上拆分，平均拆分成2份\n",
    "res = tf.split(a,axis=1,num_or_size_splits=2)\n",
    "print(res[0].shape)\n",
    "# 在第3个轴上拆分成2/2/4，返回一个列表\n",
    "con = tf.split(a,axis=3,num_or_size_splits=[2,2,4])\n",
    "print(con[0].shape)\n",
    "print(con[1].shape)\n",
    "print(con[2].shape)"
   ]
  }
 ],
 "metadata": {
  "kernelspec": {
   "display_name": "Python 3 (ipykernel)",
   "language": "python",
   "name": "python3"
  },
  "language_info": {
   "codemirror_mode": {
    "name": "ipython",
    "version": 3
   },
   "file_extension": ".py",
   "mimetype": "text/x-python",
   "name": "python",
   "nbconvert_exporter": "python",
   "pygments_lexer": "ipython3",
   "version": "3.8.15"
  }
 },
 "nbformat": 4,
 "nbformat_minor": 5
}

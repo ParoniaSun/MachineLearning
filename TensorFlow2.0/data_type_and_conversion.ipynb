{
 "cells": [
  {
   "cell_type": "code",
   "execution_count": 1,
   "id": "5cc8ef34-f0dd-476e-8476-aaf0c380b158",
   "metadata": {},
   "outputs": [
    {
     "name": "stdout",
     "output_type": "stream",
     "text": [
      "3.8.15 | packaged by conda-forge | (default, Nov 22 2022, 08:52:09) \n",
      "[Clang 14.0.6 ]\n"
     ]
    }
   ],
   "source": [
    "import sys\n",
    "print(sys.version)"
   ]
  },
  {
   "cell_type": "code",
   "execution_count": 2,
   "id": "eb40de5a-912a-4652-a934-e986a13919a5",
   "metadata": {},
   "outputs": [
    {
     "name": "stdout",
     "output_type": "stream",
     "text": [
      "2.12.0\n"
     ]
    }
   ],
   "source": [
    "import tensorflow as tf\n",
    "print(tf.__version__)"
   ]
  },
  {
   "cell_type": "code",
   "execution_count": null,
   "id": "75d1282d-d9e9-4730-a617-ee4914e57a7a",
   "metadata": {},
   "outputs": [],
   "source": [
    "\"\"\"\n",
    "1. tf.tensor 基础操作\n",
    "scaler标量：1.2\n",
    "\n",
    "vector向量：[1.2]、[1.1,2.2,3.3]      注意：此处的[1.2]是一维的，而1.2是0维的\n",
    "\n",
    "matrix矩阵：[[1.1,2.2],[3.3,4.4]]\n",
    "\n",
    "tensor张量：代表任意维度的数据\n",
    "\"\"\""
   ]
  },
  {
   "cell_type": "code",
   "execution_count": 5,
   "id": "6c612b31-a402-42d4-b38b-4eb611ebd0b0",
   "metadata": {},
   "outputs": [
    {
     "name": "stdout",
     "output_type": "stream",
     "text": [
      "tf.Tensor(\n",
      "[[1 1]\n",
      " [1 1]], shape=(2, 2), dtype=int32)\n",
      "tf.Tensor([1. 2.], shape=(2,), dtype=float32)\n",
      "tf.Tensor(True, shape=(), dtype=bool)\n",
      "tf.Tensor(b'keep coding', shape=(), dtype=string)\n"
     ]
    }
   ],
   "source": [
    "\"\"\"\n",
    "1.1 创建一个tensor\n",
    "创建方法： tf.constant(value, shape=维度, dtype=数据类型, verify_shape=False)\n",
    "value：可以为数值、列表、字符串、布尔型\n",
    "\n",
    "shape：形状，指维数以及每一维的大小。当第一个参数value是数字时，张量的所有元素都会用该数字填充，shape=[2, 3]。当第一个参数value是一个列表时，注意列表的长度必须小于等于参数shape的大小（即各维大小的乘积）\n",
    "\n",
    "shape：指定数据类型，如dtype=tf.float64\n",
    "\n",
    "verify_shape：如果修改为True的话，表示检查value的形状与shape是否相符，如果不符会报错。\n",
    "\"\"\"\n",
    "\n",
    "a1 = tf.constant(1,shape=[2,2])   # 整型tensor，2行2列都是1\n",
    "a2 = tf.constant([1,2],dtype=tf.float32)  # 浮点型tensor，指定数据类型\n",
    "a3 = tf.constant(True)  #布尔类型\n",
    "a4 = tf.constant('keep coding')\n",
    "\n",
    "print(a1)\n",
    "print(a2)\n",
    "print(a3)\n",
    "print(a4)"
   ]
  },
  {
   "cell_type": "code",
   "execution_count": 9,
   "id": "f0d0dfcc-e0a4-4abd-aedb-a0c4b3eecdd2",
   "metadata": {},
   "outputs": [
    {
     "name": "stdout",
     "output_type": "stream",
     "text": [
      "[[1 1]\n",
      " [1 1]]\n",
      "[0 1 2 3]\n",
      "1.0\n",
      "1\n",
      "1.0\n"
     ]
    }
   ],
   "source": [
    "\"\"\"\n",
    "1.2 tensor和numpy之间的转换\n",
    "方法： tensor变量.numpy()\n",
    "将tensor类型变成数组类型显示\n",
    "\"\"\"\n",
    "# ==2== 和numpy之间的转换\n",
    "print(a1.numpy())\n",
    "a5 = tf.range(4) #定义0-3的tensor列表\n",
    "print(a5.numpy())\n",
    "\n",
    "#当tensor型数据是一个标量，即只有一个值时，可以直接使用类型转换函数：int()、float()\n",
    "b = tf.ones([])  # 1\n",
    "print(b.numpy()) # 输出 1.0\n",
    "print(int(b)) # int类型的 1\n",
    "print(float(b)) # float类型的 1"
   ]
  },
  {
   "cell_type": "code",
   "execution_count": 5,
   "id": "68b2bbd9-66af-4613-a585-1c78836fda51",
   "metadata": {},
   "outputs": [
    {
     "name": "stdout",
     "output_type": "stream",
     "text": [
      "tf.Tensor([0 1 2 3], shape=(4,), dtype=int32)\n",
      "1\n",
      "tf.Tensor(1, shape=(), dtype=int32)\n",
      "(4,)\n"
     ]
    }
   ],
   "source": [
    "\"\"\"\n",
    "1.3 查看tensor维度及大小\n",
    "查看维度，返回int类型： tensor名.ndim\n",
    "查看维度，返回tensor类型： tf.rank(tensor名)\n",
    "查看tensor的形状： tensor名.shape\n",
    "\"\"\"\n",
    "# 定义一个一维tensor\n",
    "a5 = tf.range(4)\n",
    "print(a5)\n",
    "print(a5.ndim)  # 返回 1\n",
    "print(tf.rank(a5)) # 返回 1\n",
    "print(a5.shape) # 返回（4，）"
   ]
  },
  {
   "cell_type": "code",
   "execution_count": 7,
   "id": "29508388-d3a0-47c3-bc5c-678f16589118",
   "metadata": {},
   "outputs": [
    {
     "name": "stdout",
     "output_type": "stream",
     "text": [
      "True\n",
      "True\n",
      "<dtype: 'string'>\n",
      "False\n"
     ]
    }
   ],
   "source": [
    "\"\"\"\n",
    "1.4 判断是不是tensor类型\n",
    "判断变量是否属于该数据类型，返回布尔类型： isinstance(变量, 数据类型)   \n",
    "\n",
    "判断变量是否是tensor类型，返回布尔类型： tf.is_tensor(变量)\n",
    "\n",
    "查看变量数据类型，返回数据类型： 变量.dtype\n",
    "\"\"\"\n",
    "import numpy as np\n",
    "\n",
    "s1 = tf.constant([1.])\n",
    "s2 = tf.constant([True,False])\n",
    "s3 = tf.constant('hello')\n",
    "s4 = np.arange(4)\n",
    "# ==1== isinstance(变量,数据类型) \n",
    "# 返回布尔类型\n",
    "print(isinstance(s1,tf.Tensor))\n",
    "# ==2== tf.is_tensor(变量)\n",
    "print(tf.is_tensor(s2))\n",
    "# ==3== 变量.dtype\n",
    "# 查看数据类型\n",
    "print(s3.dtype)\n",
    "print(tf.is_tensor(s4))   #属于int型数据"
   ]
  },
  {
   "cell_type": "code",
   "execution_count": 10,
   "id": "0fd9f39c-d4da-43f9-ba6c-027f89653824",
   "metadata": {},
   "outputs": [
    {
     "name": "stdout",
     "output_type": "stream",
     "text": [
      "[0 1 2 3 4]\n",
      "int64\n",
      "tf.Tensor([0 1 2 3 4], shape=(5,), dtype=int64)\n",
      "<dtype: 'int64'>\n"
     ]
    }
   ],
   "source": [
    "\"\"\"\n",
    "2. 数据间类型转换\n",
    "2.1 其他类型转到tensor类型\n",
    "转到tensor类型方法： tf.convert_to_tensor(变量, dtype=tf.数据类型)\n",
    "\"\"\"\n",
    "\n",
    "a = np.arange(5)  #创建numpy类型数据\n",
    "print(a)\n",
    "print(a.dtype)  #int32类型的数据\n",
    "# ==1== 转换到 tensor 数据\n",
    "b = tf.convert_to_tensor(a)\n",
    "print(b)\n",
    "print(b.dtype)  #tf.int32类型"
   ]
  },
  {
   "cell_type": "code",
   "execution_count": 12,
   "id": "c52ae081-c41d-4f0b-8f55-a7bc9e9cba8d",
   "metadata": {},
   "outputs": [
    {
     "name": "stdout",
     "output_type": "stream",
     "text": [
      "tf.Tensor([0. 1. 2. 3. 4.], shape=(5,), dtype=float32)\n",
      "tf.Tensor([0 2 5], shape=(3,), dtype=int32)\n",
      "tf.Tensor([False  True  True], shape=(3,), dtype=bool)\n",
      "tf.Tensor([0 1 1], shape=(3,), dtype=int32)\n"
     ]
    }
   ],
   "source": [
    "\"\"\"\n",
    "2.2 各种类型间的转换\n",
    "方法： tf.cast(变量, dtype = tf.指定数据类型)\n",
    "\"\"\"\n",
    "\n",
    "a = np.arange(5) #int32类型\n",
    "b = tf.cast(a,dtype=tf.float32)\n",
    "# 原来b是tf.int32类型，现在变为tf.float32类型\n",
    "print(b)\n",
    "print('==================================================================================================================================')\n",
    "\n",
    "\"\"\"\n",
    "布尔型和整形之间的转换\n",
    "\n",
    "整型转布尔：0转为False，大于0转为True\n",
    "\n",
    "布尔转整型：true转为1，false转为0\n",
    "\n",
    "定义的a1为[0,2,5]，最终a3为[0,1,1]\n",
    "\"\"\"\n",
    "# 定义整形tensor\n",
    "a1 = tf.constant([0,2,5])   # int32         [0,2,5]\n",
    "print(a1)\n",
    "# 转为布尔型tensor\n",
    "a2 = tf.cast(a1,dtype=tf.bool)  # bool      [False,True,True]\n",
    "print(a2)\n",
    "# 再将布尔型转回整形\n",
    "a3 = tf.cast(a2,dtype=tf.int32)  # int32    [0,1,1]\n",
    "print(a3)"
   ]
  },
  {
   "cell_type": "code",
   "execution_count": 13,
   "id": "99cc3bcf-260b-4263-866c-930384c6accc",
   "metadata": {},
   "outputs": [
    {
     "name": "stdout",
     "output_type": "stream",
     "text": [
      "tf.Tensor([0 1 2 3 4], shape=(5,), dtype=int32)\n",
      "<tf.Variable 'Variable:0' shape=(5,) dtype=int32, numpy=array([0, 1, 2, 3, 4], dtype=int32)>\n",
      "True\n",
      "True\n"
     ]
    }
   ],
   "source": [
    "\"\"\"\n",
    "2.3  tf.Variable类型\n",
    "tf.Variable 类型属于神经网络参数类型，属于tensor类型，记录梯度相关信息，先做了解，后续会详谈。\n",
    "\n",
    "将tensor类型转为Variable类型： tf.Variable(tensor变量)\n",
    "\"\"\"\n",
    "\n",
    "a = tf.range(5)  # 定义一个tensor数据\n",
    "print(a)\n",
    "b = tf.Variable(a)  # 变成Variable类型数据 \n",
    "print(b)\n",
    "print(b.trainable)  # 返回True\n",
    "# 查看数据类型\n",
    "print(tf.is_tensor(b))  #True，属于tensor"
   ]
  }
 ],
 "metadata": {
  "kernelspec": {
   "display_name": "Python 3 (ipykernel)",
   "language": "python",
   "name": "python3"
  },
  "language_info": {
   "codemirror_mode": {
    "name": "ipython",
    "version": 3
   },
   "file_extension": ".py",
   "mimetype": "text/x-python",
   "name": "python",
   "nbconvert_exporter": "python",
   "pygments_lexer": "ipython3",
   "version": "3.8.15"
  }
 },
 "nbformat": 4,
 "nbformat_minor": 5
}

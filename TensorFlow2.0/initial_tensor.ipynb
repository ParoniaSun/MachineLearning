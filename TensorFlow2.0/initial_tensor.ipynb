{
 "cells": [
  {
   "cell_type": "code",
   "execution_count": 2,
   "id": "894361a1-b6ba-4b78-835c-d92eff8fc23f",
   "metadata": {},
   "outputs": [
    {
     "name": "stdout",
     "output_type": "stream",
     "text": [
      "3.8.15 | packaged by conda-forge | (default, Nov 22 2022, 08:52:09) \n",
      "[Clang 14.0.6 ]\n",
      "2.12.0\n"
     ]
    }
   ],
   "source": [
    "import sys\n",
    "print(sys.version)\n",
    "\n",
    "import tensorflow as tf\n",
    "print(tf.__version__)\n",
    "\n",
    "import numpy as np"
   ]
  },
  {
   "cell_type": "code",
   "execution_count": 14,
   "id": "d9cc3cb7-9eb0-438e-b22e-db265ec982e2",
   "metadata": {},
   "outputs": [
    {
     "name": "stdout",
     "output_type": "stream",
     "text": [
      "tf.Tensor(\n",
      "[[1. 1. 1.]\n",
      " [1. 1. 1.]], shape=(2, 3), dtype=float32)\n",
      "tf.Tensor(\n",
      "[[0. 0. 0.]\n",
      " [0. 0. 0.]], shape=(2, 3), dtype=float64)\n",
      "==================================================================================================================================\n",
      "tf.Tensor([2 3], shape=(2,), dtype=int32)\n",
      "tf.Tensor(\n",
      "[[2.]\n",
      " [2.]], shape=(2, 1), dtype=float32)\n"
     ]
    }
   ],
   "source": [
    "\"\"\"\n",
    "1. 通过numpy和list创建tensor\n",
    "方法： tf.convert_to_tensor(value, dtype=None)\n",
    "np.ones([2,3]) 使用numpy创建2行3列全为1的数组，将该数组全部变成tensor类型，指定数据类型维tf.float32\n",
    "\"\"\"\n",
    "#（1）通过numpy和list创建tensor\n",
    "# 将2行3列全为1的numpy类型数据转换成tensor类型，原数据类型为float32\n",
    "print(tf.convert_to_tensor(np.ones([2,3]),dtype=tf.float32))\n",
    "# 将2行3列全为0的numpy类型数据转换成tensor类型，类型为float64\n",
    "print(tf.convert_to_tensor(np.zeros([2,3])))\n",
    "print('==================================================================================================================================')\n",
    "\n",
    "\"\"\"\n",
    "创建一个一维列表[2,3]，和一个二维列表[[2],[2.]]，转换成tensor类型\n",
    "注意：此处的convert_to_tensor([2,3]) 括号内代表data一维数组[2,3]，一定要和下面第2、3节的方法区分开\n",
    "\"\"\"\n",
    "# 将1维列表变成tensor类型，int32\n",
    "print(tf.convert_to_tensor([2,3]))  #得到1维长度为2的tensor\n",
    "# 将2维列表变成tensor类型，float32\n",
    "print(tf.convert_to_tensor([[2],[2.]]))\n"
   ]
  },
  {
   "cell_type": "code",
   "execution_count": 17,
   "id": "5d6eebc2-b2f8-48fb-8e82-40c4f448f135",
   "metadata": {},
   "outputs": [
    {
     "name": "stdout",
     "output_type": "stream",
     "text": [
      "tf.Tensor(0.0, shape=(), dtype=float32)\n",
      "tf.Tensor([0. 0.], shape=(2,), dtype=float32)\n",
      "tf.Tensor(\n",
      "[[0. 0. 0.]\n",
      " [0. 0. 0.]], shape=(2, 3), dtype=float32)\n",
      "tf.Tensor(\n",
      "[[[0. 0. 0. 0.]\n",
      "  [0. 0. 0. 0.]\n",
      "  [0. 0. 0. 0.]]\n",
      "\n",
      " [[0. 0. 0. 0.]\n",
      "  [0. 0. 0. 0.]\n",
      "  [0. 0. 0. 0.]]], shape=(2, 3, 4), dtype=float32)\n",
      "==================================================================================================================================\n",
      "tf.Tensor(\n",
      "[[0 0 0]\n",
      " [0 0 0]], shape=(2, 3), dtype=int32)\n",
      "tf.Tensor(\n",
      "[[0 0 0]\n",
      " [0 0 0]], shape=(2, 3), dtype=int32)\n",
      "tf.Tensor(\n",
      "[[0. 0. 0.]\n",
      " [0. 0. 0.]], shape=(2, 3), dtype=float32)\n"
     ]
    }
   ],
   "source": [
    "\"\"\"\n",
    "2. 创建全为某种值的tensor\n",
    "2.1 创建全为0的tensor\n",
    "方法： tf.zeros([shape])\n",
    "注意：这里的 tf.zeros([ ])，括号里填的是形状shape；而上一节中的列表转tensor括号里面是一维数组。\n",
    "\"\"\"\n",
    "# ==1== 初始化为0的tensor\n",
    "print(tf.zeros([]))  # 只有一个数字0  \n",
    "# ==2== 创建一个1维的，长度为2，元素全为0的tensor\n",
    "print(tf.zeros([2]))  # 一维，长度维2，全0\n",
    "# ==3== 创建m行n列全为0的tensor\n",
    "print(tf.zeros([2,3])) # 2行3列，全0\n",
    "# ==4== 创建三维tensor，全为0的tensor\n",
    "print(tf.zeros([2,3,4])) \n",
    "print('==================================================================================================================================')\n",
    "\"\"\"\n",
    "根据输入的tensor变量的shape来创建一个全为0的tensor\n",
    "\n",
    "方法： tf.zeros_like(tensor变量)。  【完全复制】\n",
    "等同于： tf.zeros(tensor变量.shape) 【只复制shape，不复制dtype】\n",
    "\"\"\"\n",
    "a = tf.zeros([2,3],dtype=tf.int32)  #a的shape是2行3列\n",
    "print(a)\n",
    "# 法一：\n",
    "print(tf.zeros_like(a))     #创建一个2行3列全0的tensor\n",
    "# 法二：\n",
    "print(tf.zeros(a.shape))  "
   ]
  },
  {
   "cell_type": "code",
   "execution_count": 23,
   "id": "289017e6-43f6-4329-96ae-375b1b701380",
   "metadata": {},
   "outputs": [
    {
     "name": "stdout",
     "output_type": "stream",
     "text": [
      "tf.Tensor(1.0, shape=(), dtype=float32)\n",
      "tf.Tensor([1. 1.], shape=(2,), dtype=float32)\n",
      "tf.Tensor([1. 1.], shape=(2,), dtype=float32)\n",
      "tf.Tensor(\n",
      "[[1. 1. 1.]\n",
      " [1. 1. 1.]], shape=(2, 3), dtype=float32)\n",
      "==================================================================================================================================\n",
      "tf.Tensor([[1 1 1]], shape=(1, 3), dtype=int32)\n",
      "tf.Tensor([[1 1 1]], shape=(1, 3), dtype=int32)\n",
      "tf.Tensor([[1. 1. 1.]], shape=(1, 3), dtype=float32)\n"
     ]
    }
   ],
   "source": [
    "\"\"\"\n",
    "2.2 创建全为1的tensor\n",
    "方法： tf.ones([shape])\n",
    "\"\"\"\n",
    "# 创建只有数字1的tensor\n",
    "print(tf.ones([]))   \n",
    "# 创建一个1维的，长度维2，只有数字1的tensor\n",
    "print(tf.ones(2))    \n",
    "# 创建一个1维的长度为2的全为1的tensor\n",
    "print(tf.ones([2]))  \n",
    "#创建2行3列全为1的tensor\n",
    "print(tf.ones([2,3])) \n",
    "print('==================================================================================================================================')\n",
    "\n",
    "\"\"\"\n",
    "根据输入的tensor变量的shape来创建一个全为1的tensor\n",
    "\n",
    "方法： tf.ones_like(tensor变量)\n",
    "等同于： tf.ones(tensor变量.shape)\n",
    "\"\"\"\n",
    "# 根据返回对象的shape创建全为1的tensor\n",
    "a = tf.ones([1,3],dtype=tf.int32)  #2维全0的tensor\n",
    "print(a)\n",
    "print(tf.ones_like(a))\n",
    "print(tf.ones(a.shape))"
   ]
  },
  {
   "cell_type": "code",
   "execution_count": 24,
   "id": "c941590c-6d55-409f-ad16-49d528214f6f",
   "metadata": {},
   "outputs": [
    {
     "name": "stdout",
     "output_type": "stream",
     "text": [
      "tf.Tensor(1.2, shape=(), dtype=float32)\n",
      "tf.Tensor([1.2 1.2 1.2], shape=(3,), dtype=float32)\n",
      "tf.Tensor(\n",
      "[[1.2 1.2]\n",
      " [1.2 1.2]], shape=(2, 2), dtype=float32)\n"
     ]
    }
   ],
   "source": [
    "\"\"\"\n",
    "2.3 全为某元素的tensor\n",
    "方法： tf.fill([shape], 元素)\n",
    "用某个元素填充指定形状\n",
    "\"\"\"\n",
    "# 这个tensor标量，只有一个值1.2\n",
    "print(tf.fill([],1.2)) \n",
    "# 创建1维长度为3的tensor向量，以1.2填充\n",
    "print(tf.fill([3],1.2))  \n",
    "# 创建2维的2行2列的tensor矩阵，以1.2填充\n",
    "print(tf.fill([2,2],1.2))  "
   ]
  },
  {
   "cell_type": "code",
   "execution_count": null,
   "id": "6f773ad9-5492-4589-943e-9e4b0d3e2df8",
   "metadata": {},
   "outputs": [],
   "source": [
    "\"\"\"\n",
    "均值和标准差公式以及样例：\n",
    "均值（期望）：x(mean) = 1/n * ∑(i=1,n) x(i)\n",
    "\n",
    "总体方差：s^2 = 1/n * ∑(i=1,n) [x(i) - x(mean)]^2\n",
    "样本方差：s^2 = 1/(n-1) * ∑(i=1,n) [x(i) - x(mean)]^2\n",
    "\n",
    "总体标准差：s = sqrt(1/n * ∑(i=1,n) [x(i) - x(mean)]^2)\n",
    "样本标准差：s = sqrt(1/(n-1) * ∑(i=1,n) [x(i) - x(mean)]^2)\n",
    "\n",
    "\"\"\"\n",
    "a = np.array([\n",
    "    [1, 2, 3],\n",
    "    [4, 5, 6],\n",
    "    [7, 8, 9]\n",
    "    ])\n",
    "\n",
    "print(\"整体的均值：\", np.mean(a))              # 整体的均值\n",
    "print(\"每一列的均值：\", np.mean(a, axis=0))    # 每一列的均值\n",
    "print(\"每一行的均值：\", np.mean(a, axis=1))    # 每一行的均值\n",
    "\n",
    "print(\"整体的标准差：\", np.std(a))              # 整体的标准差\n",
    "print(\"每一列的标准差：\", np.std(a, axis=0))    # 每一列的标准差\n",
    "print(\"每一行的标准差：\", np.std(a, axis=1))    # 每一行的标准差"
   ]
  },
  {
   "cell_type": "code",
   "execution_count": 27,
   "id": "9ad670c5-cc7e-4a9d-93dc-4959fc4ef8f4",
   "metadata": {},
   "outputs": [
    {
     "name": "stdout",
     "output_type": "stream",
     "text": [
      "tf.Tensor(\n",
      "[[ 1.0951352  -0.4741038 ]\n",
      " [ 0.19012696  1.7978071 ]], shape=(2, 2), dtype=float32)\n"
     ]
    }
   ],
   "source": [
    "\"\"\"\n",
    "3. 随机化初始\n",
    "3.1 正态分布初始\n",
    "方法： tf.random.normal(shape, mean=0, stddev=1, dtype=None, seed=None)\n",
    "shape： 张量的形状shape，必选\n",
    "mean： 正态分布的均值，默认为0\n",
    "stddev： 正态分布的标准差，默认为1.0\n",
    "dtype： 输出的类型，默认为tf.float32\n",
    "seed： 随机数种子，是一个整数1,2，当设置之后，每次生成的随机数都一样\n",
    "\"\"\"\n",
    "# 创建一个2行2列的tensor，每个元素满足均值为1，标准差为1的正态分布\n",
    "print(tf.random.normal([2,2],mean=1,stddev=1))"
   ]
  },
  {
   "cell_type": "code",
   "execution_count": 28,
   "id": "8ccf3d08-2134-451f-b0a2-0bc591a2be47",
   "metadata": {},
   "outputs": [
    {
     "name": "stdout",
     "output_type": "stream",
     "text": [
      "tf.Tensor(\n",
      "[[-0.03711782 -0.71659845]\n",
      " [ 0.15967602  1.5435468 ]], shape=(2, 2), dtype=float32)\n"
     ]
    }
   ],
   "source": [
    "\"\"\"\n",
    "3.2 截断正态分布初始\n",
    "方法： tf.random.truncated_normal()\n",
    "在原来分布的基础上，截去某一部分元素，限制变量x的取值范围。后续可以优化sigmoid函数。\n",
    "正态分布则可视为不进行任何截断的截断正态分布，也即自变量的取值为负无穷到正无穷。\n",
    "\"\"\"\n",
    "# 创建一个2行2列的tensor，每个元素满足均值为0，标准差为1的截断正态分布\n",
    "print(tf.random.truncated_normal([2,2],mean=0,stddev=1))"
   ]
  },
  {
   "cell_type": "code",
   "execution_count": 34,
   "id": "c6f859c5-f181-4784-b6c9-9117ee992aaf",
   "metadata": {},
   "outputs": [
    {
     "name": "stdout",
     "output_type": "stream",
     "text": [
      "tf.Tensor(\n",
      "[[0.3143772  0.9929639 ]\n",
      " [0.34328175 0.88922274]], shape=(2, 2), dtype=float32)\n",
      "tf.Tensor(\n",
      "[[9 2]\n",
      " [3 3]], shape=(2, 2), dtype=int32)\n"
     ]
    }
   ],
   "source": [
    "\"\"\"\n",
    "3.3 均匀分布\n",
    "方法： tf.random.uniform(shape, minval, maxval, dtype=None, seed=None)\n",
    "shape： 输出张量的形状。\n",
    "minval： 生成的随机值范围的下限。默认为0。\n",
    "maxval： 要生成的随机值范围的上限。若dtype是浮点类型，默认是1。\n",
    "dtype： 输出的类型，默认 tf.float32。\n",
    "seed：  整数，当设置之后，每次生成的随机数都一样。\n",
    "tensor中每个元素的范围在最小值和最大值之间，包含最小值，不包含最大值\n",
    "\"\"\"\n",
    "# 每个元素都是[0,1)之间随机采样，生成2行2列的tensor\n",
    "print(tf.random.uniform([2,2])) \n",
    "# 每个元素都是从1，10之间随机采用，整型\n",
    "print(tf.random.uniform([2,2],minval=1,maxval=10,dtype=tf.int32))"
   ]
  },
  {
   "cell_type": "code",
   "execution_count": 35,
   "id": "00cab542-f647-4a50-befd-0ef91e28898b",
   "metadata": {},
   "outputs": [
    {
     "name": "stdout",
     "output_type": "stream",
     "text": [
      "tf.Tensor([0 1 2 3 4 5 6 7 8 9], shape=(10,), dtype=int32)\n",
      "tf.Tensor([2 9 7 6 0 5 3 1 4 8], shape=(10,), dtype=int32)\n"
     ]
    }
   ],
   "source": [
    "\"\"\"\n",
    "4. 重新洗牌\n",
    "对一组数据随机重新排序，可用于打散有相对关系的两组数据\n",
    "方法： tf.random.shuffle(value,seed=None)\n",
    "\"\"\"\n",
    "idx = tf.range(10)  #一维tensor，包含0-9的10个数\n",
    "print(idx)\n",
    "print(tf.random.shuffle(idx))  #对a重新洗牌"
   ]
  },
  {
   "cell_type": "code",
   "execution_count": 45,
   "id": "13add41b-fe22-4db5-b7ed-6f1c3df6a975",
   "metadata": {},
   "outputs": [
    {
     "name": "stdout",
     "output_type": "stream",
     "text": [
      "tf.Tensor(\n",
      "[[1 1]\n",
      " [1 1]], shape=(2, 2), dtype=int32)\n",
      "tf.Tensor([1. 2.], shape=(2,), dtype=float32)\n",
      "tf.Tensor(\n",
      "[[1.1 2.2]\n",
      " [3.3 4.4]], shape=(2, 2), dtype=float32)\n"
     ]
    }
   ],
   "source": [
    "\"\"\"\n",
    "5. tf.constant() 方法\n",
    "将输入的标量、列表、矩阵变成指定数据类型的tensor\n",
    "\n",
    "方法： tf.constant(value, dtype=None, shape=None, verify_shape=False)\n",
    "value： 数值、列表、矩阵\n",
    "dtype： 指定数据类型\n",
    "shape： 形状，指维数以及每一维的大小。当value是数字时，张量的所有元素都会用该数字填充。当value是一个列表时，注意列表的长度必须小于等于shape的大小（即各维大小的乘积）\n",
    "verify_shape： 如果修改为True的话，表示检查value的形状与shape是否相符，符合就输出结果，如果不符会报错。\n",
    "\"\"\"\n",
    "#传入一个标量，2行2列全为1\n",
    "print(tf.constant(1,shape=[2,2]))\n",
    " #传入一个列表，指定数据类型\n",
    "print(tf.constant([1,2.],dtype=tf.float32))\n",
    "#传入一个矩阵，判断这个矩阵是否是2行2列\n",
    "print(tf.constant([[1.1,2.2],[3.3,4.4]],shape=[2,2])) "
   ]
  }
 ],
 "metadata": {
  "kernelspec": {
   "display_name": "Python 3 (ipykernel)",
   "language": "python",
   "name": "python3"
  },
  "language_info": {
   "codemirror_mode": {
    "name": "ipython",
    "version": 3
   },
   "file_extension": ".py",
   "mimetype": "text/x-python",
   "name": "python",
   "nbconvert_exporter": "python",
   "pygments_lexer": "ipython3",
   "version": "3.8.15"
  }
 },
 "nbformat": 4,
 "nbformat_minor": 5
}

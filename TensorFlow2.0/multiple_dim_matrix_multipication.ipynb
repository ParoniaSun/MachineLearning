{
 "cells": [
  {
   "cell_type": "code",
   "execution_count": 1,
   "id": "9625366d-4631-4dce-8b5c-688790bc615e",
   "metadata": {},
   "outputs": [
    {
     "name": "stdout",
     "output_type": "stream",
     "text": [
      "3.8.15 | packaged by conda-forge | (default, Nov 22 2022, 08:52:09) \n",
      "[Clang 14.0.6 ]\n",
      "2.12.0\n"
     ]
    }
   ],
   "source": [
    "import sys\n",
    "print(sys.version)\n",
    "\n",
    "import tensorflow as tf\n",
    "print(tf.__version__)\n",
    "\n",
    "import numpy as np"
   ]
  },
  {
   "cell_type": "code",
   "execution_count": null,
   "id": "70bc4d4d-a224-4c0c-9d52-89c092a01697",
   "metadata": {},
   "outputs": [],
   "source": [
    "\"\"\"\n",
    "总体原则：在高维矩阵中取与低维矩阵相同维度的子矩阵来与低维矩阵相乘，结果再按子矩阵的排列顺序还原为高维矩阵。相乘结果的维度与原来的高维矩阵一致。\n",
    "具体来说，当一方为一维矩阵时，另一方取其最后一维子矩阵来做乘法；当两方都是大于等于2维的矩阵时，取各自的最后两维构成的子矩阵来做乘法，其他维度体现结果的拼接信息，\n",
    "不参与运算（为batch训练提供了便利，batch中各样本的顺序在矩阵运算前后保持一致）。\n",
    "\"\"\""
   ]
  },
  {
   "cell_type": "code",
   "execution_count": 3,
   "id": "7ecb4c5f-dca1-41fe-be40-4aa82bf73b10",
   "metadata": {},
   "outputs": [
    {
     "name": "stdout",
     "output_type": "stream",
     "text": [
      "a:\n",
      " [[1. 2.]\n",
      " [3. 4.]]\n",
      "b:\n",
      " [1 2]\n",
      "ab:\n",
      " [ 5. 11.]\n",
      "ba:\n",
      " [ 7. 10.]\n"
     ]
    }
   ],
   "source": [
    "\"\"\"\n",
    "二维乘一维\n",
    "二维矩阵依次取出一维的行向量与一维矩阵做内积\n",
    "\"\"\"\n",
    "#二维乘一维\n",
    "a = np.linspace(1,4,4).reshape(2,2)\n",
    "b = np.array([1,2])\n",
    "c = np.matmul(a,b)\n",
    "d = np.matmul(b,a)\n",
    "print('a:\\n',a)\n",
    "print('b:\\n',b)\n",
    "print('ab:\\n',c)\n",
    "print('ba:\\n',d)"
   ]
  },
  {
   "cell_type": "code",
   "execution_count": 6,
   "id": "2cda84e9-fc67-4c86-b74f-0a61d9d20213",
   "metadata": {},
   "outputs": [
    {
     "name": "stdout",
     "output_type": "stream",
     "text": [
      "a:\n",
      " [[[1. 2.]\n",
      "  [3. 4.]]\n",
      "\n",
      " [[5. 6.]\n",
      "  [7. 8.]]]\n",
      "b:\n",
      " [1 2]\n",
      "ab:\n",
      " [[ 5. 11.]\n",
      " [17. 23.]]\n",
      "ba:\n",
      " [[ 7. 10.]\n",
      " [19. 22.]]\n"
     ]
    }
   ],
   "source": [
    "\"\"\"\n",
    "三维乘一维\n",
    "三维矩阵包含两个二维矩阵，分别将这两个二维矩阵与一维矩阵相乘（乘积为一维），结果按原来的顺序拼接起来，构成一个二维矩阵\n",
    "\"\"\"\n",
    "#三维乘一维\n",
    "a = np.linspace(1,8,8).reshape(2,2,2)\n",
    "b = np.array([1,2])\n",
    "c = np.matmul(a,b)\n",
    "d = np.matmul(b,a)\n",
    "print('a:\\n',a)\n",
    "print('b:\\n',b)\n",
    "print('ab:\\n',c)\n",
    "print('ba:\\n',d)"
   ]
  },
  {
   "cell_type": "code",
   "execution_count": 7,
   "id": "a1e40f39-2aee-4257-863a-cf3f0428e1a3",
   "metadata": {},
   "outputs": [
    {
     "name": "stdout",
     "output_type": "stream",
     "text": [
      "a:\n",
      " [[1. 2.]\n",
      " [3. 4.]]\n",
      "b:\n",
      " [[1. 1.]\n",
      " [1. 1.]]\n",
      "ab:\n",
      " [[3. 3.]\n",
      " [7. 7.]]\n",
      "ba:\n",
      " [[4. 6.]\n",
      " [4. 6.]]\n"
     ]
    }
   ],
   "source": [
    "\"\"\"\n",
    "二维乘二维\n",
    "最常见的矩阵相乘形式\n",
    "\"\"\"\n",
    "#二维乘二维\n",
    "a = np.linspace(1,4,4).reshape(2,2)\n",
    "b = np.ones((2,2))\n",
    "c = np.matmul(a,b)\n",
    "d = np.matmul(b,a)\n",
    "print('a:\\n',a)\n",
    "print('b:\\n',b)\n",
    "print('ab:\\n',c)\n",
    "print('ba:\\n',d)"
   ]
  },
  {
   "cell_type": "code",
   "execution_count": 9,
   "id": "f16d684e-812a-42c5-ab79-0f2a3fe896ea",
   "metadata": {},
   "outputs": [
    {
     "name": "stdout",
     "output_type": "stream",
     "text": [
      "a:\n",
      " [[[1. 2.]\n",
      "  [3. 4.]]\n",
      "\n",
      " [[5. 6.]\n",
      "  [7. 8.]]]\n",
      "b:\n",
      " [[1 0]\n",
      " [0 1]]\n",
      "ab:\n",
      " [[[1. 2.]\n",
      "  [3. 4.]]\n",
      "\n",
      " [[5. 6.]\n",
      "  [7. 8.]]]\n",
      "ba:\n",
      " [[[1. 2.]\n",
      "  [3. 4.]]\n",
      "\n",
      " [[5. 6.]\n",
      "  [7. 8.]]]\n"
     ]
    }
   ],
   "source": [
    "\"\"\"\n",
    "三维乘二维\n",
    "将三维矩阵中的后两维组成的二维子矩阵分别与二维矩阵相乘（二维），结果再按原顺序拼接起来（三维）\n",
    "\"\"\"\n",
    "#相当于三维矩阵里的二维分量分别与二维矩阵相乘，再拼接起来\n",
    "a=np.linspace(1,8,8).reshape(2,2,2)\n",
    "# print(a)\n",
    "b = np.array([[1,0],[0,1]]) #单位矩阵\n",
    "c = np.matmul(a,b)\n",
    "d = np.matmul(b,a)\n",
    "print('a:\\n',a)\n",
    "print('b:\\n',b)\n",
    "print('ab:\\n',c)\n",
    "print('ba:\\n',d)"
   ]
  },
  {
   "cell_type": "code",
   "execution_count": 18,
   "id": "3f30a73b-dee4-4936-93b8-88faee3a8ca8",
   "metadata": {},
   "outputs": [
    {
     "name": "stdout",
     "output_type": "stream",
     "text": [
      "a:\n",
      " [[[1. 2.]\n",
      "  [3. 4.]]\n",
      "\n",
      " [[5. 6.]\n",
      "  [7. 8.]]]\n",
      "b:\n",
      " [[[1 0]\n",
      "  [0 1]]\n",
      "\n",
      " [[0 1]\n",
      "  [1 0]]]\n",
      "ab:\n",
      " [[[1. 2.]\n",
      "  [3. 4.]]\n",
      "\n",
      " [[6. 5.]\n",
      "  [8. 7.]]]\n",
      "ba:\n",
      " [[[1. 2.]\n",
      "  [3. 4.]]\n",
      "\n",
      " [[7. 8.]\n",
      "  [5. 6.]]]\n",
      "==================================================================================================================================\n",
      "a:\n",
      " [[[1. 2.]\n",
      "  [3. 4.]]\n",
      "\n",
      " [[5. 6.]\n",
      "  [7. 8.]]]\n",
      "b:\n",
      " [[[0 1]\n",
      "  [1 0]]]\n",
      "ab:\n",
      " [[[2. 1.]\n",
      "  [4. 3.]]\n",
      "\n",
      " [[6. 5.]\n",
      "  [8. 7.]]]\n",
      "ba:\n",
      " [[[3. 4.]\n",
      "  [1. 2.]]\n",
      "\n",
      " [[7. 8.]\n",
      "  [5. 6.]]]\n",
      "==================================================================================================================================\n"
     ]
    },
    {
     "ename": "ValueError",
     "evalue": "operands could not be broadcast together with remapped shapes [original->remapped]: (4,2,2)->(4,newaxis,newaxis) (2,2,2)->(2,newaxis,newaxis)  and requested shape (2,2)",
     "output_type": "error",
     "traceback": [
      "\u001b[0;31m---------------------------------------------------------------------------\u001b[0m",
      "\u001b[0;31mValueError\u001b[0m                                Traceback (most recent call last)",
      "Cell \u001b[0;32mIn[18], line 54\u001b[0m\n\u001b[1;32m     52\u001b[0m f \u001b[38;5;241m=\u001b[39m np\u001b[38;5;241m.\u001b[39marray([[[\u001b[38;5;241m0\u001b[39m,\u001b[38;5;241m1\u001b[39m],[\u001b[38;5;241m1\u001b[39m,\u001b[38;5;241m0\u001b[39m]]])\n\u001b[1;32m     53\u001b[0m b \u001b[38;5;241m=\u001b[39m np\u001b[38;5;241m.\u001b[39mvstack((e,f))\n\u001b[0;32m---> 54\u001b[0m c \u001b[38;5;241m=\u001b[39m \u001b[43mnp\u001b[49m\u001b[38;5;241;43m.\u001b[39;49m\u001b[43mmatmul\u001b[49m\u001b[43m(\u001b[49m\u001b[43ma\u001b[49m\u001b[43m,\u001b[49m\u001b[43mb\u001b[49m\u001b[43m)\u001b[49m\n\u001b[1;32m     55\u001b[0m d \u001b[38;5;241m=\u001b[39m np\u001b[38;5;241m.\u001b[39mmatmul(b,a)\n\u001b[1;32m     56\u001b[0m \u001b[38;5;28mprint\u001b[39m(\u001b[38;5;124m'\u001b[39m\u001b[38;5;124ma:\u001b[39m\u001b[38;5;130;01m\\n\u001b[39;00m\u001b[38;5;124m'\u001b[39m,a)\n",
      "\u001b[0;31mValueError\u001b[0m: operands could not be broadcast together with remapped shapes [original->remapped]: (4,2,2)->(4,newaxis,newaxis) (2,2,2)->(2,newaxis,newaxis)  and requested shape (2,2)"
     ]
    }
   ],
   "source": [
    "\"\"\"\n",
    "三维乘三维\n",
    "两个三维矩阵中对应位置的二维子矩阵分别相乘，结果按第0维分量更多的那个矩阵的结构拼接。\n",
    "注意：，并不是任意两个三维矩阵都能相乘，其必须满足两个条件：\n",
    "\n",
    "1：两个矩阵的后两个维度构成的二维矩阵之间必须满足二维矩阵相乘的条件，即第一个矩阵的列数等于第二个矩阵的行数\n",
    "2：两个矩阵的第0维分量数必须相等（每个分量对应相乘） 或 有一方为1（broadcast-广播机制） —-反例见下方第3种情况\n",
    "\n",
    "1-(2,2,2)*(2,2,2)\n",
    "\"\"\"\n",
    "#三维乘三维 (2,2,2)*(2,2,2)\n",
    "#计算时都是二维乘二维，第三维度反映二维矩阵的拼接信息;对应位置二维矩阵相乘\n",
    "a=np.linspace(1,8,8).reshape(2,2,2)\n",
    "# print(a)\n",
    "e = np.array([[[1,0],[0,1]]])\n",
    "f = np.array([[[0,1],[1,0]]])\n",
    "b = np.vstack((e,f))\n",
    "c = np.matmul(a,b)\n",
    "d = np.matmul(b,a)\n",
    "print('a:\\n',a)\n",
    "print('b:\\n',b)\n",
    "print('ab:\\n',c)\n",
    "print('ba:\\n',d)\n",
    "\n",
    "print('==================================================================================================================================')\n",
    "\n",
    "\"\"\"\n",
    "2-(2,2,2)*(1,2,2)\n",
    "\"\"\"\n",
    "#三维乘三维 (2,2,2)*(1,2,2)\n",
    "#广播机制(broadcast)\n",
    "a=np.linspace(1,8,8).reshape(2,2,2)\n",
    "# print(a)\n",
    "b = np.array([[[0,1],[1,0]]])\n",
    "c = np.matmul(a,b)\n",
    "d = np.matmul(b,a)\n",
    "print('a:\\n',a)\n",
    "print('b:\\n',b)\n",
    "print('ab:\\n',c)\n",
    "print('ba:\\n',d)\n",
    "\n",
    "print('==================================================================================================================================')\n",
    "\n",
    "\"\"\"\n",
    "3-(3,2,2)*(2,2,2)–失败\n",
    "第0维分量数不满足条件2，不能相乘\n",
    "\"\"\"\n",
    "# 三维乘三维--不同形状：(4,2,2)*(2,2,2)\n",
    "a=np.linspace(1,16,16).reshape(4,2,2)\n",
    "# print(a)\n",
    "e = np.array([[[1,0],[0,1]]])\n",
    "f = np.array([[[0,1],[1,0]]])\n",
    "b = np.vstack((e,f))\n",
    "c = np.matmul(a,b)\n",
    "d = np.matmul(b,a)\n",
    "print('a:\\n',a)\n",
    "print('b:\\n',b)\n",
    "print('c:\\n',c)\n",
    "print('ba:\\n',d)"
   ]
  },
  {
   "cell_type": "code",
   "execution_count": 14,
   "id": "b548e136-3de1-4197-994e-94c850d880b0",
   "metadata": {},
   "outputs": [
    {
     "name": "stdout",
     "output_type": "stream",
     "text": [
      "a:\n",
      " [[[[ 1.  2.]\n",
      "   [ 3.  4.]]\n",
      "\n",
      "  [[ 5.  6.]\n",
      "   [ 7.  8.]]]\n",
      "\n",
      "\n",
      " [[[ 9. 10.]\n",
      "   [11. 12.]]\n",
      "\n",
      "  [[13. 14.]\n",
      "   [15. 16.]]]]\n",
      "b:\n",
      " [[[[1. 1.]\n",
      "   [1. 1.]]\n",
      "\n",
      "  [[1. 1.]\n",
      "   [1. 1.]]]\n",
      "\n",
      "\n",
      " [[[1. 1.]\n",
      "   [1. 1.]]\n",
      "\n",
      "  [[1. 1.]\n",
      "   [1. 1.]]]]\n",
      "ab:\n",
      " [[[[ 3.  3.]\n",
      "   [ 7.  7.]]\n",
      "\n",
      "  [[11. 11.]\n",
      "   [15. 15.]]]\n",
      "\n",
      "\n",
      " [[[19. 19.]\n",
      "   [23. 23.]]\n",
      "\n",
      "  [[27. 27.]\n",
      "   [31. 31.]]]]\n",
      "ba:\n",
      " [[[[ 4.  6.]\n",
      "   [ 4.  6.]]\n",
      "\n",
      "  [[12. 14.]\n",
      "   [12. 14.]]]\n",
      "\n",
      "\n",
      " [[[20. 22.]\n",
      "   [20. 22.]]\n",
      "\n",
      "  [[28. 30.]\n",
      "   [28. 30.]]]]\n"
     ]
    }
   ],
   "source": [
    "\"\"\"\n",
    "多维乘多维\n",
    "与三维乘三维类似，\n",
    "1:两个矩阵的后两个维度构成的二维矩阵之间必须满足二维矩阵相乘的条件，即第一个矩阵的列数等于第二个矩阵的行数\n",
    "2:可乘条件2改为：除最后两维外，每一维的分量数必须对应相等（每个分量对应相乘） 或 有一方为1（broadcast-广播机制）\n",
    "\"\"\"\n",
    "#各维度的分量相互对应，最终仍是计算二维乘二维\n",
    "a=np.linspace(1,16,16).reshape(2,2,2,2)\n",
    "b = np.ones((2,2,2,2)) #全1矩阵\n",
    "c = np.matmul(a,b)\n",
    "d = np.matmul(b,a)\n",
    "print('a:\\n',a)\n",
    "print('b:\\n',b)\n",
    "print('ab:\\n',c)\n",
    "print('ba:\\n',d)"
   ]
  }
 ],
 "metadata": {
  "kernelspec": {
   "display_name": "Python 3 (ipykernel)",
   "language": "python",
   "name": "python3"
  },
  "language_info": {
   "codemirror_mode": {
    "name": "ipython",
    "version": 3
   },
   "file_extension": ".py",
   "mimetype": "text/x-python",
   "name": "python",
   "nbconvert_exporter": "python",
   "pygments_lexer": "ipython3",
   "version": "3.8.15"
  }
 },
 "nbformat": 4,
 "nbformat_minor": 5
}
